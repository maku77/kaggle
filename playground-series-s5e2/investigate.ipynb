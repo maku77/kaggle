{
 "cells": [
  {
   "cell_type": "markdown",
   "metadata": {},
   "source": [
    "## データセットの読み込み"
   ]
  },
  {
   "cell_type": "code",
   "execution_count": null,
   "metadata": {},
   "outputs": [],
   "source": [
    "# type: ignore\n",
    "import pandas as pd\n",
    "\n",
    "train_org = pd.read_csv(\"data/train.csv\", index_col=\"id\")\n",
    "train_ext = pd.read_csv(\"data/training_extra.csv\", index_col=\"id\")\n",
    "train = pd.concat([train_org, train_ext], axis=0, ignore_index=False)\n",
    "# test = pd.read_csv(\"data/test.csv\")\n",
    "# submission = pd.read_csv(\"data/sample_submission.csv\")"
   ]
  },
  {
   "cell_type": "markdown",
   "metadata": {},
   "source": [
    "## データ全体の確認"
   ]
  },
  {
   "cell_type": "markdown",
   "metadata": {},
   "source": [
    "まずは、トレーニングデータセット内のデータ数や欠損値の有無、データ型をざっくりと確認します。\n",
    "データ数は 30 万件で、多くの特徴量はカテゴリ変数であることがわかります。"
   ]
  },
  {
   "cell_type": "code",
   "execution_count": null,
   "metadata": {},
   "outputs": [],
   "source": [
    "train.info()"
   ]
  },
  {
   "cell_type": "code",
   "execution_count": null,
   "metadata": {},
   "outputs": [],
   "source": [
    "train.head()"
   ]
  },
  {
   "cell_type": "code",
   "execution_count": null,
   "metadata": {},
   "outputs": [],
   "source": [
    "train.describe().round(2)"
   ]
  },
  {
   "cell_type": "markdown",
   "metadata": {},
   "source": [
    "## カテゴリデータについて調べる"
   ]
  },
  {
   "cell_type": "markdown",
   "metadata": {},
   "source": [
    "### カテゴリ変数のユニークな値を確認"
   ]
  },
  {
   "cell_type": "code",
   "execution_count": null,
   "metadata": {},
   "outputs": [],
   "source": [
    "categorical_columns = train.select_dtypes(include=[\"object\"]).columns\n",
    "for col in categorical_columns:\n",
    "    print(f\"{col} 列のユニーク値: {train[col].unique()}\")"
   ]
  },
  {
   "cell_type": "markdown",
   "metadata": {},
   "source": [
    "### One-hot エンコーディング"
   ]
  },
  {
   "cell_type": "code",
   "execution_count": null,
   "metadata": {},
   "outputs": [],
   "source": [
    "# type: ignore\n",
    "from sklearn.preprocessing import OneHotEncoder\n",
    "from sklearn.compose import ColumnTransformer\n",
    "\n",
    "# カテゴリ変数のカラム一覧を取得\n",
    "categorical_columns = train.select_dtypes(include=[\"object\"]).columns.to_list()\n",
    "\n",
    "# 各カラムの変換器を作成（カテゴリ変数は One-hot エーコーディング、それ以外はそのまま残す）\n",
    "col_transformer = ColumnTransformer(\n",
    "    transformers=[(\"OneHot\", OneHotEncoder(sparse_output=False), categorical_columns)],\n",
    "    remainder=\"passthrough\"\n",
    ")\n",
    "\n",
    "# 実際に変換してみる\n",
    "col_transformer.fit(train)\n",
    "train_onehot = pd.DataFrame(\n",
    "    data=col_transformer.transform(train),\n",
    "    columns=col_transformer.get_feature_names_out()\n",
    ")\n",
    "train_onehot"
   ]
  }
 ],
 "metadata": {
  "kernelspec": {
   "display_name": "kaggle",
   "language": "python",
   "name": "python3"
  },
  "language_info": {
   "codemirror_mode": {
    "name": "ipython",
    "version": 3
   },
   "file_extension": ".py",
   "mimetype": "text/x-python",
   "name": "python",
   "nbconvert_exporter": "python",
   "pygments_lexer": "ipython3",
   "version": "3.12.0"
  }
 },
 "nbformat": 4,
 "nbformat_minor": 2
}
